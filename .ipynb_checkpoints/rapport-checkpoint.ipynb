{
 "cells": [
  {
   "cell_type": "code",
   "execution_count": 1,
   "metadata": {},
   "outputs": [],
   "source": [
    "import numpy as np\n",
    "from matplotlib import widgets\n",
    "import scipy.optimize as so\n",
    "import pandas as pd\n",
    "import pulp as pp\n",
    "from prog_dual import probleme as pr, resolution, affichage\n",
    "\n",
    "\n",
    "import tkinter as tk"
   ]
  },
  {
   "cell_type": "markdown",
   "metadata": {},
   "source": [
    "# Présentation du problème particulier :\n",
    "\n",
    "\n",
    "|              | Lot 1 | Lot2 | Lot 3 | Demande |\n",
    "|--------------|-------|------|-------|---------|\n",
    "|Fusils        | 500   | 300  | 800   |100000   |\n",
    "|Grenades      |1000   |2000  |1500   |200000   |\n",
    "|Chars         |10     |20    |15     |100      |\n",
    "|Mitrailleuses |100    |80    |15     |400      |\n",
    "|Bazookas      | 80    | 120  |200    |400      | \n",
    "|Coûts des lots|10M    |12M   |15M    |         |\n",
    "\n",
    "Nous avons à faire une forme duale de programme linéaire.\n",
    "\n",
    "## Primal : \n",
    "\n",
    "- liste des contraintes :\n",
    "\n",
    "\\begin{cases}\n",
    "500x + 300y + 800z \\ge 100000 \\\\\n",
    "1000x + 2000y + 1500z \\ge 200000 \\\\\n",
    "10x + 20y + 15z \\ge 100 \\\\\n",
    "100x + 80y + 15z \\ge 400 \\\\\n",
    "80x + 120y + 200z \\ge 400 \n",
    "\\end{cases}\n",
    "\n",
    "- Avec $x, y, z$, les nombres de lots choisis respectivement dans les lots $1, 2 \\text{ et } 3$. \n",
    "Le programme à minimiser est : $$\\min_{x y z} 10x + 12y + 15z$$ \n",
    "\n",
    "## Dual : \n",
    "\n",
    "- liste des contraintes :\n",
    "\n",
    "\\begin{cases}\n",
    "500a + 1000b + 10c +100d + 80e \\le 10000000 \\\\\n",
    "300a + 2000b + 20c + 80d + 120e \\le 12000000 \\\\\n",
    "800a + 1500b + 15c + 15d + 200e \\le 15000000 \n",
    "\\end{cases}\n",
    "\n",
    "- Avec $a b c d e $, les prix des armes dans (fusils, grenades, chars, mitrailleuses, bazookas). \\\n",
    "Le profit du fabricant est :\n",
    "$$\\pi = 100000a+200000b+100c+400d+400e$$\n",
    "Le programme à maximiser est : $$\\max_{abcde} \\Pi$$\n",
    "\n",
    "## Ecriture matricielle :\n",
    "\n",
    "- Avec A la matrice des coûts des lots, B la matrice des coefficients, C la matrice de la demande, X la matrice des nb de lots et Y la matrice des prix unitaires, G le coût total payé par le demandeur et G' le profit du fabricant.\n",
    "\n",
    "$$A = \\begin{bmatrix} \n",
    "10 & 12 & 15 \\\\  \n",
    "\\end{bmatrix}, \n",
    "B = \\begin{bmatrix}\n",
    "500 & 300 & 800 \\\\\n",
    "1000 & 2000 & 1500 \\\\\n",
    "10 & 20 & 15 \\\\\n",
    "100 & 80 & 15 \\\\\n",
    "80 & 120 & 200\n",
    "\\end{bmatrix},\n",
    "C = \\begin{bmatrix}\n",
    "100000 \\\\\n",
    "200000\\\\\n",
    "100\\\\\n",
    "400\\\\\n",
    "400\n",
    "\\end{bmatrix},\n",
    "X = \\begin{bmatrix}\n",
    "x \\\\\n",
    "y \\\\\n",
    "z \\\\\n",
    "\\end{bmatrix},\n",
    "Y = \\begin{bmatrix}\n",
    "a \\\\\n",
    "b \\\\\n",
    "c \\\\\n",
    "d \\\\\n",
    "e\n",
    "\\end{bmatrix}\n",
    "$$\n",
    "\n",
    "- Primal et minimisation du nb de lot :\n",
    "Minimiser $G = AX$ sous les contraintes : $BX \\ge C$ et $X \\ge 0$\n",
    "\n",
    "- Dual et maximisation des prix unitaires : \n",
    "Maximiser $G' = C^TY$ sous les contraintes : $B^TY \\le A^T$ et $Y\\ge 0$"
   ]
  },
  {
   "cell_type": "markdown",
   "metadata": {},
   "source": [
    "## Résolution avec linprog :"
   ]
  },
  {
   "cell_type": "code",
   "execution_count": 2,
   "metadata": {},
   "outputs": [],
   "source": [
    "B = np.array([[500, 300, 800],\n",
    "              [1000, 2000, 1500],\n",
    "              [10, 20, 15],\n",
    "              [100, 80, 15],\n",
    "              [80, 120, 200]]) # matrice des coefficients\n",
    "\n",
    "A = np.array([10000000, 12000000, 15000000]) # matrice des coûts des lots\n",
    "\n",
    "C = np.array([100000, 200000, 100, 400, 400]) # matrice de la demande\n",
    "\n",
    "Ct = C.T\n",
    "Bt = B.T\n",
    "At = A.T"
   ]
  },
  {
   "cell_type": "code",
   "execution_count": 3,
   "metadata": {},
   "outputs": [
    {
     "name": "stdout",
     "output_type": "stream",
     "text": [
      "           con: array([], dtype=float64)\n",
      " crossover_nit: 0\n",
      "           fun: 1930434782.608696\n",
      "       message: 'Optimization terminated successfully.'\n",
      "           nit: 2\n",
      "         slack: array([    0.        ,     0.        ,  1900.        ,  2121.73913043,\n",
      "       24991.30434783])\n",
      "        status: 0\n",
      "       success: True\n",
      "             x: array([  0.        ,   8.69565217, 121.73913043])\n"
     ]
    }
   ],
   "source": [
    "solution_primal = so.linprog(c=A, A_ub=-B, b_ub=-C , method= \"highs\")\n",
    "print(solution_primal)"
   ]
  },
  {
   "cell_type": "code",
   "execution_count": 4,
   "metadata": {},
   "outputs": [
    {
     "name": "stdout",
     "output_type": "stream",
     "text": [
      "           con: array([], dtype=float64)\n",
      " crossover_nit: 0\n",
      "           fun: -1930434782.6086955\n",
      "       message: 'Optimization terminated successfully.'\n",
      "           nit: 2\n",
      "         slack: array([347826.08695652,      0.        ,      0.        ])\n",
      "        status: 0\n",
      "       success: True\n",
      "             x: array([10434.7826087,  4434.7826087,     0.       ,     0.       ,\n",
      "           0.       ])\n"
     ]
    }
   ],
   "source": [
    "solution_dual = so.linprog(c=-Ct, A_ub=Bt, b_ub=At , method= \"highs\")\n",
    "print(solution_dual)"
   ]
  },
  {
   "cell_type": "code",
   "execution_count": 5,
   "metadata": {},
   "outputs": [],
   "source": [
    "B = np.array([[500, 300, 800],\n",
    "              [1000, 2000, 1500],\n",
    "              [10, 20, 15],\n",
    "              [100, 80, 15],\n",
    "              [80, 120, 200],\n",
    "              [1, 0, 0],\n",
    "              [0, 1, 0],\n",
    "              [0, 0, 1]]) # matrice des coefficients\n",
    "\n",
    "A = np.array([10000000, 12000000, 15000000]) # matrice des coûts des lots\n",
    "\n",
    "C = np.array([100000, 200000, 100, 400, 400, 0, 0, 0]) # matrice de la demande\n",
    "\n",
    "Ct = C.T\n",
    "Bt = B.T\n",
    "At = A.T"
   ]
  },
  {
   "cell_type": "code",
   "execution_count": 6,
   "metadata": {},
   "outputs": [],
   "source": [
    "def resoud_pb (A, B, C) :\n",
    "    Ct = C.T\n",
    "    Bt = B.T\n",
    "    At = A.T\n",
    "    solution_primal = so.linprog(c=A, A_ub=-B, b_ub=-C , method= \"highs\")\n",
    "    solution_dual = so.linprog(c=-Ct, A_ub=Bt, b_ub=At , method= \"highs\")\n",
    "    print(solution_primal)\n",
    "    print(solution_dual)"
   ]
  },
  {
   "cell_type": "code",
   "execution_count": 7,
   "metadata": {},
   "outputs": [
    {
     "name": "stdout",
     "output_type": "stream",
     "text": [
      "           con: array([], dtype=float64)\n",
      " crossover_nit: 0\n",
      "           fun: 1930434782.6086955\n",
      "       message: 'Optimization terminated successfully.'\n",
      "           nit: 2\n",
      "         slack: array([0.00000000e+00, 0.00000000e+00, 1.90000000e+03, 2.12173913e+03,\n",
      "       2.49913043e+04, 0.00000000e+00, 8.69565217e+00, 1.21739130e+02])\n",
      "        status: 0\n",
      "       success: True\n",
      "             x: array([ -0.        ,   8.69565217, 121.73913043])\n",
      "           con: array([], dtype=float64)\n",
      " crossover_nit: 0\n",
      "           fun: -1930434782.6086955\n",
      "       message: 'Optimization terminated successfully.'\n",
      "           nit: 2\n",
      "         slack: array([347826.08695652,      0.        ,      0.        ])\n",
      "        status: 0\n",
      "       success: True\n",
      "             x: array([10434.7826087,  4434.7826087,     0.       ,     0.       ,\n",
      "           0.       ,     0.       ,     0.       ,     0.       ])\n"
     ]
    }
   ],
   "source": [
    "resoud_pb (A, B, C)"
   ]
  },
  {
   "cell_type": "markdown",
   "metadata": {},
   "source": [
    "## Résolution avec Pulp"
   ]
  },
  {
   "cell_type": "code",
   "execution_count": 8,
   "metadata": {},
   "outputs": [
    {
     "name": "stdout",
     "output_type": "stream",
     "text": [
      "x 1.0\n",
      "y 9.0\n",
      "z 121.0\n"
     ]
    },
    {
     "data": {
      "text/plain": [
       "1933000000.0"
      ]
     },
     "execution_count": 8,
     "metadata": {},
     "output_type": "execute_result"
    }
   ],
   "source": [
    "x = pp.LpVariable(\"x\", 0, None, pp.LpInteger)\n",
    "y = pp.LpVariable(\"y\", 0, None, pp.LpInteger)\n",
    "z = pp.LpVariable(\"z\", 0, None, pp.LpInteger)\n",
    "prob = pp.LpProblem(\"Prog_primal\", pp.LpMinimize )\n",
    "prob.setObjective(10000000*x + 12000000*y + 15000000*z)\n",
    "prob.addConstraint(500*x + 300*y + 800*z >= 100000)\n",
    "prob.addConstraint(1000*x + 2000*y + 1500*z >= 200000)\n",
    "prob.addConstraint(10*x + 20*y + 15*z >= 100)\n",
    "prob.addConstraint(100*x + 80*y + 15*z >= 400)\n",
    "prob.addConstraint(80*x + 120*y + 200*z >= 400)\n",
    "prob.solve()\n",
    "for var in prob.variables():\n",
    "    print(var, var.value())\n",
    "prob.objective.value()"
   ]
  },
  {
   "cell_type": "code",
   "execution_count": 9,
   "metadata": {},
   "outputs": [
    {
     "name": "stdout",
     "output_type": "stream",
     "text": [
      "a 10434.783\n",
      "b 4434.7826\n",
      "c 0.0\n",
      "d 0.0\n",
      "e 0.0\n"
     ]
    },
    {
     "data": {
      "text/plain": [
       "1930434820.0"
      ]
     },
     "execution_count": 9,
     "metadata": {},
     "output_type": "execute_result"
    }
   ],
   "source": [
    "a = pp.LpVariable(\"a\", 0, None, pp.LpContinuous)\n",
    "b = pp.LpVariable(\"b\", 0, None, pp.LpContinuous)\n",
    "c = pp.LpVariable(\"c\", 0, None, pp.LpContinuous)\n",
    "d = pp.LpVariable(\"d\", 0, None, pp.LpContinuous)\n",
    "e = pp.LpVariable(\"e\", 0, None, pp.LpContinuous)\n",
    "probD = pp.LpProblem(\"Prog_dual\", pp.LpMaximize)\n",
    "probD.setObjective(100000*a + 200000*b + 100*c + 400*d + 400*e)\n",
    "probD.addConstraint(500*a + 1000*b + 10*c + 100*d + 80*e <= 10000000)\n",
    "probD.addConstraint(300*a + 2000*b + 20*c + 80*d + 120*e <= 12000000)\n",
    "probD.addConstraint(800*a + 1500*b + 15*c + 15*d + 200*e <= 15000000)\n",
    "probD.solve()\n",
    "for var in probD.variables():\n",
    "    print(var, var.value())\n",
    "probD.objective.value()"
   ]
  },
  {
   "cell_type": "markdown",
   "metadata": {},
   "source": [
    "Remarques : \n",
    "\n",
    "- considérer les lots comme fractionnables n'est pas logique du tout. Le principe des lots reposant justement sur le fait qu'ils ne soient pas fractionnables. En effet, le vendeur confectionne les lots en leur donnant une valeur globale afin de valoriser des types d'armes dans chaque lots tout en incitant l'acheteur à prendre certaines quantité de types d'armes dont il n'a pas besoin (ainsi le vendeur peut quand même écouler ses stocks) . Si l'acheteur peut fractionner ses lots, il n'y a plus d'intéret à faire des lots car l'acheteur peut prendre une quantité inférieure à la quantité minimum proposée par le vendeur (hors cette quantité minimum permet d'optimiser l'écoulement des stocks pour le vendeur). De plus, une arme ne peut être \"découpée\".\n",
    "\n",
    "- La valeur de la fonction objectif du primal  correspond au chiffre d'affaire pour le vendeur et au prix total payé pour l'acheteur. La valeur de la fonction objectif du programme dual correspond au chiffre d'affaire de l'entrant sur le marché.\n",
    "\n",
    "- Lorsqu'on considère que les lots sont fractionnables, la valeur de la fonction objectif du programme est la même pour le vendeur et l'entrant. En revanche, dans le cas de lots non fractionnables, on remarque que le chiffre d'affaire de l'entrant est inférieur à celui du vendeur \"par lot\". Le demandeur aura donc intéret à choisir l'entrant car il économise 2,6 millions d'euros environs. \n",
    "\n",
    "- On remarque que l'entrant proposera certains prix unitaires à 0. Cela signifie que si l'acheteur satisfait toute sa demande avec l'entrant, il paiera certains type d'armes et se verra offrir les autres.\n",
    "\n",
    "- Si l'on baisse le prix du lot 1 en dessous d'un certain palier, l'acheteur ne choisira que des lots 1. En revanche, si l'on augmente le prix du lot 1 au dessus de 15 millions, l'acheteur ne selectionnera plus de lot1.\n"
   ]
  },
  {
   "cell_type": "markdown",
   "metadata": {},
   "source": [
    "# Généralisation : \n",
    "\n",
    "## Ecriture et affichage d'un problème \n",
    "\n",
    "Le module problème permet de définir les données d'un problème de programme dual de vente d'armes afin de pouvoir généraliser le problème présenter par le sujet \"Aux armes\".\n",
    "\n",
    "Tout d'abord, on définit des lots. Un lot est est composé de  d'un nombre de différentes types d'armes. Un coût est fixé pour chaque lot. Notre programme vérifie qu'un lot est valide. On trouvera ci dessous des exemples de lots valides et non valides. Si un lot n'est pas valide, la classe Lot le détecte et renvoie une erreur correspondant à la raison de non-validité."
   ]
  },
  {
   "cell_type": "code",
   "execution_count": 10,
   "metadata": {},
   "outputs": [],
   "source": [
    "###########Lot non valide################# \n",
    "Lot1 = pr.Lot(\"Lot1\", 20, [\"caillou\", \"lame\"], [6, 20])\n",
    "Lot2 = pr.Lot(\"Lot2\", 18, [\"caillou\", \"lame\"], [20, 6])\n",
    "Lot3 = pr.Lot(\"Lot3\", 14, [\"caillou\", \"lame\"], [15, 7])\n",
    "Lot4 = pr.Lot(\"Lot4\", 20, [\"baton\", \"lame\"], [7, 6])\n",
    "Lot5 = pr.Lot(\"Lot5\", 20, [\"caillou\", \"lame\", \"cuillere\"], [20, 6, 5])\n",
    "Lot9 = pr.Lot(\"Lot9\", 20, [\"caillou\", \"lame\", \"cuillere\"], [20, 6, 5])\n",
    "Lot10 = pr.Lot(\"Lot9\", 25, [\"caillou\", \"lame\", \"cuillere\"], [18, 6, 5])\n"
   ]
  },
  {
   "cell_type": "code",
   "execution_count": 11,
   "metadata": {},
   "outputs": [],
   "source": [
    "###########Lot non valide################# \n",
    "# Lot6 = pr.Lot(\"Lot6\", 20, [\"caillou\", \"lame\", \"lame\"], [20, 6, 5])\n",
    "# Lot7 = pr.Lot(\"Lot7\", 20, [\"caillou\", \"lame\", \"cutter\"], [20, 6, 5, 7])\n",
    "# Lot8 = pr.Lot(\"Lot8\", -20, [\"caillou\", \"lame\", \"cutter\"], [20, 6, 5])"
   ]
  },
  {
   "cell_type": "markdown",
   "metadata": {},
   "source": [
    "Un problème est composé de différents lots et d'une demande. Notre programme vérifie que le problème est valide. Ci dessous, on trouvera un exemple de problème valide puis une série de problème non valide détectés par notre programme."
   ]
  },
  {
   "cell_type": "code",
   "execution_count": 12,
   "metadata": {},
   "outputs": [],
   "source": [
    "Test1 = pr.Probleme([Lot1, Lot2, Lot3], demande = [40, 12])"
   ]
  },
  {
   "cell_type": "code",
   "execution_count": 13,
   "metadata": {},
   "outputs": [],
   "source": [
    "# Test2 = pr.Probleme([Lot3, Lot4],[300, 200])"
   ]
  },
  {
   "cell_type": "code",
   "execution_count": 14,
   "metadata": {},
   "outputs": [],
   "source": [
    "# Test3 = pr.Probleme([Lot3, Lot5], [200, 200])"
   ]
  },
  {
   "cell_type": "code",
   "execution_count": 15,
   "metadata": {},
   "outputs": [],
   "source": [
    "# Test4 = pr.Probleme([Lot5, Lot9], [100, 60, 200])"
   ]
  },
  {
   "cell_type": "code",
   "execution_count": 16,
   "metadata": {},
   "outputs": [],
   "source": [
    "# Test5 = pr.Probleme([Lot9, Lot10], [100, 10, 87])"
   ]
  },
  {
   "cell_type": "code",
   "execution_count": 17,
   "metadata": {},
   "outputs": [],
   "source": [
    "# Test6 = pr.Probleme([Lot1, Lot2, Lot3], [100,100, 100])  "
   ]
  },
  {
   "cell_type": "code",
   "execution_count": 18,
   "metadata": {},
   "outputs": [],
   "source": [
    "# Test7 = pr.Probleme([Lot1, Lot2], [100, 200])"
   ]
  },
  {
   "cell_type": "code",
   "execution_count": 19,
   "metadata": {},
   "outputs": [],
   "source": [
    "# Test8 = pr.Probleme([Lot1],[100,100])"
   ]
  },
  {
   "cell_type": "code",
   "execution_count": 20,
   "metadata": {},
   "outputs": [],
   "source": [
    "# Test9 = pr.Probleme([Lot1, Lot2], [100, 200, 60] )"
   ]
  },
  {
   "cell_type": "code",
   "execution_count": 21,
   "metadata": {},
   "outputs": [],
   "source": [
    "# Test11 = pr.Probleme([Lot1, Lot2])"
   ]
  },
  {
   "cell_type": "markdown",
   "metadata": {},
   "source": [
    "La fonction __repr__ permet d'afficher en 'brut' les données d'un problème."
   ]
  },
  {
   "cell_type": "code",
   "execution_count": 22,
   "metadata": {},
   "outputs": [
    {
     "data": {
      "text/plain": [
       "probleme(lots=[Lot(nom='Lot1', cout=20, type_arme=['caillou', 'lame'], quantite=[6, 20]), Lot(nom='Lot2', cout=18, type_arme=['caillou', 'lame'], quantite=[20, 6]), Lot(nom='Lot3', cout=14, type_arme=['caillou', 'lame'], quantite=[15, 7])],demande = [40, 12])"
      ]
     },
     "execution_count": 22,
     "metadata": {},
     "output_type": "execute_result"
    }
   ],
   "source": [
    "Test1"
   ]
  },
  {
   "cell_type": "markdown",
   "metadata": {},
   "source": [
    "La fonction __str__ permet d'afficher les données d'un problème d'une manière plus structurée."
   ]
  },
  {
   "cell_type": "code",
   "execution_count": 23,
   "metadata": {},
   "outputs": [
    {
     "name": "stdout",
     "output_type": "stream",
     "text": [
      "Lot(nom='Lot1', cout=20, type_arme=['caillou', 'lame'], quantite=[6, 20])\n",
      "Lot(nom='Lot2', cout=18, type_arme=['caillou', 'lame'], quantite=[20, 6])\n",
      "Lot(nom='Lot3', cout=14, type_arme=['caillou', 'lame'], quantite=[15, 7])\n",
      "Demande = [40, 12]\n"
     ]
    }
   ],
   "source": [
    "print(Test1)"
   ]
  },
  {
   "cell_type": "markdown",
   "metadata": {},
   "source": [
    "La fonction __eq__ permet de voir si deux problèmes sont identiques."
   ]
  },
  {
   "cell_type": "code",
   "execution_count": 24,
   "metadata": {},
   "outputs": [],
   "source": [
    "Test13 = pr.Probleme.par_str(\"\"\"\n",
    "Lot1 / 5 / caillou ciseau / 10 1\n",
    "Lot2 / 7 / caillou ciseau / 7 2\n",
    "60 10\n",
    "\"\"\")"
   ]
  },
  {
   "cell_type": "code",
   "execution_count": 25,
   "metadata": {},
   "outputs": [],
   "source": [
    "Test14 = pr.Probleme.par_str(\"\"\"\n",
    "Lot1 / 5 / caillou ciseau / 10 1\n",
    "Lot2 / 7 / caillou ciseau / 7 2\n",
    "60 10\n",
    "\"\"\")"
   ]
  },
  {
   "cell_type": "code",
   "execution_count": 26,
   "metadata": {},
   "outputs": [
    {
     "data": {
      "text/plain": [
       "True"
      ]
     },
     "execution_count": 26,
     "metadata": {},
     "output_type": "execute_result"
    }
   ],
   "source": [
    "Test13 == Test14"
   ]
  },
  {
   "cell_type": "markdown",
   "metadata": {},
   "source": [
    "Afin d'afficher les données du problèmes, on construit les différents éléments du tableau (coût, lots et matrice des coefficients)."
   ]
  },
  {
   "cell_type": "code",
   "execution_count": 27,
   "metadata": {},
   "outputs": [
    {
     "data": {
      "text/plain": [
       "(matrix([['6', '20', '15', '40'],\n",
       "         ['20', '6', '7', '12'],\n",
       "         ['20', '18', '14', '']], dtype='<U11'),\n",
       " [[6, 20], [20, 6], [15, 7]],\n",
       " [20, 18, 14],\n",
       " [[40, 12]])"
      ]
     },
     "execution_count": 27,
     "metadata": {},
     "output_type": "execute_result"
    }
   ],
   "source": [
    "Test1._def_matrice()"
   ]
  },
  {
   "cell_type": "code",
   "execution_count": 28,
   "metadata": {},
   "outputs": [
    {
     "name": "stdout",
     "output_type": "stream",
     "text": [
      "Lot(nom='Lot1', cout=20, type_arme=['caillou', 'lame'], quantite=[6, 20])\n",
      "Lot(nom='Lot2', cout=18, type_arme=['caillou', 'lame'], quantite=[20, 6])\n",
      "Lot(nom='Lot3', cout=14, type_arme=['caillou', 'lame'], quantite=[15, 7])\n",
      "Demande = [40, 12]\n"
     ]
    }
   ],
   "source": [
    "print(Test1)"
   ]
  },
  {
   "cell_type": "markdown",
   "metadata": {},
   "source": [
    "Afin de faciliter l'utilisation du programme pour l'utilisateur, on utilise la fonction `par_str` pour encoder le problème. Cette fonction utilise la fonction `_encode` pour encode chaque ligne rentrée."
   ]
  },
  {
   "cell_type": "code",
   "execution_count": 29,
   "metadata": {},
   "outputs": [],
   "source": [
    "Test10 = pr.Probleme.par_str(\"\"\"\n",
    "lotA / 13 / fusil canon pierre / 50 10 2\n",
    "lotB / 18 / fusil canon pierre / 62 8 4\n",
    "100 200 1000\n",
    "\"\"\")\n"
   ]
  },
  {
   "cell_type": "code",
   "execution_count": 30,
   "metadata": {},
   "outputs": [
    {
     "name": "stdout",
     "output_type": "stream",
     "text": [
      "Lot(nom='lotA', cout=13, type_arme=['fusil', 'canon', 'pierre'], quantite=[50, 10, 2])\n",
      "Lot(nom='lotB', cout=18, type_arme=['fusil', 'canon', 'pierre'], quantite=[62, 8, 4])\n",
      "Demande = [100, 200, 1000]\n"
     ]
    }
   ],
   "source": [
    "print(Test10)"
   ]
  },
  {
   "cell_type": "markdown",
   "metadata": {},
   "source": [
    "L'instance de Problème Test 12 représente les données du sujets \"Aux armes\"."
   ]
  },
  {
   "cell_type": "code",
   "execution_count": 31,
   "metadata": {},
   "outputs": [],
   "source": [
    "Test12 = pr.Probleme.par_str(\"\"\"\n",
    "Lot1 / 10000000 / Fusils Grenades Chars Mitrailleuses Bazookas / 500 1000 10 100 80\n",
    "Lot2 / 12000000 / Fusils Grenades Chars Mitrailleuses Bazookas / 300 2000 20 80 120\n",
    "Lot3 / 15000000 / Fusils Grenades Chars Mitrailleuses Bazookas / 800 1500 15 15 200\n",
    "100000 200000 100 400 400\n",
    "\"\"\")"
   ]
  },
  {
   "cell_type": "code",
   "execution_count": 32,
   "metadata": {},
   "outputs": [
    {
     "name": "stdout",
     "output_type": "stream",
     "text": [
      "Lot(nom='Lot1', cout=10000000, type_arme=['Fusils', 'Grenades', 'Chars', 'Mitrailleuses', 'Bazookas'], quantite=[500, 1000, 10, 100, 80])\n",
      "Lot(nom='Lot2', cout=12000000, type_arme=['Fusils', 'Grenades', 'Chars', 'Mitrailleuses', 'Bazookas'], quantite=[300, 2000, 20, 80, 120])\n",
      "Lot(nom='Lot3', cout=15000000, type_arme=['Fusils', 'Grenades', 'Chars', 'Mitrailleuses', 'Bazookas'], quantite=[800, 1500, 15, 15, 200])\n",
      "Demande = [100000, 200000, 100, 400, 400]\n"
     ]
    }
   ],
   "source": [
    "print(Test12)"
   ]
  },
  {
   "cell_type": "markdown",
   "metadata": {},
   "source": [
    "## Résolution du problème et affichage :\n",
    "\n",
    "Le modue résolution permet de résoudre le programme dual, c'est à dire trouver le choix optimal de lots pour le demandeur et les prix unitaires des armes optimaux pour l'entrant. Le module résolution propose deux méthodes de résolutions, l'une qui considère les lots comme fractionnables, l'autre qui considère les lots comme non fractionnables.\n",
    "\n",
    "Le module affichage permet d'afficher de représenter les données du problèmes et d'afficher les solutions selon deux critères : \n",
    "   - solution primal (demandeur) ou solution dual (entrant)\n",
    "   - lots fractionables ou non fractionables."
   ]
  },
  {
   "cell_type": "markdown",
   "metadata": {},
   "source": [
    "La fonction `genere_table`représente les données du problème dans un dataframe."
   ]
  },
  {
   "cell_type": "code",
   "execution_count": 33,
   "metadata": {},
   "outputs": [
    {
     "data": {
      "text/html": [
       "<div>\n",
       "<style scoped>\n",
       "    .dataframe tbody tr th:only-of-type {\n",
       "        vertical-align: middle;\n",
       "    }\n",
       "\n",
       "    .dataframe tbody tr th {\n",
       "        vertical-align: top;\n",
       "    }\n",
       "\n",
       "    .dataframe thead th {\n",
       "        text-align: right;\n",
       "    }\n",
       "</style>\n",
       "<table border=\"1\" class=\"dataframe\">\n",
       "  <thead>\n",
       "    <tr style=\"text-align: right;\">\n",
       "      <th></th>\n",
       "      <th>Lot1</th>\n",
       "      <th>Lot2</th>\n",
       "      <th>Lot3</th>\n",
       "      <th>demande</th>\n",
       "    </tr>\n",
       "  </thead>\n",
       "  <tbody>\n",
       "    <tr>\n",
       "      <th>caillou</th>\n",
       "      <td>6</td>\n",
       "      <td>20</td>\n",
       "      <td>15</td>\n",
       "      <td>40</td>\n",
       "    </tr>\n",
       "    <tr>\n",
       "      <th>lame</th>\n",
       "      <td>20</td>\n",
       "      <td>6</td>\n",
       "      <td>7</td>\n",
       "      <td>12</td>\n",
       "    </tr>\n",
       "    <tr>\n",
       "      <th>cout_lot</th>\n",
       "      <td>20</td>\n",
       "      <td>18</td>\n",
       "      <td>14</td>\n",
       "      <td></td>\n",
       "    </tr>\n",
       "  </tbody>\n",
       "</table>\n",
       "</div>"
      ],
      "text/plain": [
       "         Lot1 Lot2 Lot3 demande\n",
       "caillou     6   20   15      40\n",
       "lame       20    6    7      12\n",
       "cout_lot   20   18   14        "
      ]
     },
     "execution_count": 33,
     "metadata": {},
     "output_type": "execute_result"
    }
   ],
   "source": [
    "affichage.genere_table(Test1)"
   ]
  },
  {
   "cell_type": "code",
   "execution_count": 34,
   "metadata": {},
   "outputs": [
    {
     "data": {
      "text/html": [
       "<div>\n",
       "<style scoped>\n",
       "    .dataframe tbody tr th:only-of-type {\n",
       "        vertical-align: middle;\n",
       "    }\n",
       "\n",
       "    .dataframe tbody tr th {\n",
       "        vertical-align: top;\n",
       "    }\n",
       "\n",
       "    .dataframe thead th {\n",
       "        text-align: right;\n",
       "    }\n",
       "</style>\n",
       "<table border=\"1\" class=\"dataframe\">\n",
       "  <thead>\n",
       "    <tr style=\"text-align: right;\">\n",
       "      <th></th>\n",
       "      <th>Lot1</th>\n",
       "      <th>Lot2</th>\n",
       "      <th>Lot3</th>\n",
       "      <th>demande</th>\n",
       "    </tr>\n",
       "  </thead>\n",
       "  <tbody>\n",
       "    <tr>\n",
       "      <th>Fusils</th>\n",
       "      <td>500</td>\n",
       "      <td>300</td>\n",
       "      <td>800</td>\n",
       "      <td>100000</td>\n",
       "    </tr>\n",
       "    <tr>\n",
       "      <th>Grenades</th>\n",
       "      <td>1000</td>\n",
       "      <td>2000</td>\n",
       "      <td>1500</td>\n",
       "      <td>200000</td>\n",
       "    </tr>\n",
       "    <tr>\n",
       "      <th>Chars</th>\n",
       "      <td>10</td>\n",
       "      <td>20</td>\n",
       "      <td>15</td>\n",
       "      <td>100</td>\n",
       "    </tr>\n",
       "    <tr>\n",
       "      <th>Mitrailleuses</th>\n",
       "      <td>100</td>\n",
       "      <td>80</td>\n",
       "      <td>15</td>\n",
       "      <td>400</td>\n",
       "    </tr>\n",
       "    <tr>\n",
       "      <th>Bazookas</th>\n",
       "      <td>80</td>\n",
       "      <td>120</td>\n",
       "      <td>200</td>\n",
       "      <td>400</td>\n",
       "    </tr>\n",
       "    <tr>\n",
       "      <th>cout_lot</th>\n",
       "      <td>10000000</td>\n",
       "      <td>12000000</td>\n",
       "      <td>15000000</td>\n",
       "      <td></td>\n",
       "    </tr>\n",
       "  </tbody>\n",
       "</table>\n",
       "</div>"
      ],
      "text/plain": [
       "                   Lot1      Lot2      Lot3 demande\n",
       "Fusils              500       300       800  100000\n",
       "Grenades           1000      2000      1500  200000\n",
       "Chars                10        20        15     100\n",
       "Mitrailleuses       100        80        15     400\n",
       "Bazookas             80       120       200     400\n",
       "cout_lot       10000000  12000000  15000000        "
      ]
     },
     "execution_count": 34,
     "metadata": {},
     "output_type": "execute_result"
    }
   ],
   "source": [
    "affichage.genere_table(Test12)"
   ]
  },
  {
   "cell_type": "markdown",
   "metadata": {},
   "source": [
    "La fonction `table_solutions`permet de d'afficher les solutions selon les critères primal et frac."
   ]
  },
  {
   "cell_type": "code",
   "execution_count": 35,
   "metadata": {},
   "outputs": [
    {
     "data": {
      "text/html": [
       "<div>\n",
       "<style scoped>\n",
       "    .dataframe tbody tr th:only-of-type {\n",
       "        vertical-align: middle;\n",
       "    }\n",
       "\n",
       "    .dataframe tbody tr th {\n",
       "        vertical-align: top;\n",
       "    }\n",
       "\n",
       "    .dataframe thead th {\n",
       "        text-align: right;\n",
       "    }\n",
       "</style>\n",
       "<table border=\"1\" class=\"dataframe\">\n",
       "  <thead>\n",
       "    <tr style=\"text-align: right;\">\n",
       "      <th></th>\n",
       "      <th>Nb de lots</th>\n",
       "    </tr>\n",
       "  </thead>\n",
       "  <tbody>\n",
       "    <tr>\n",
       "      <th>Lot1</th>\n",
       "      <td>1.0</td>\n",
       "    </tr>\n",
       "    <tr>\n",
       "      <th>Lot2</th>\n",
       "      <td>9.0</td>\n",
       "    </tr>\n",
       "    <tr>\n",
       "      <th>Lot3</th>\n",
       "      <td>121.0</td>\n",
       "    </tr>\n",
       "  </tbody>\n",
       "</table>\n",
       "</div>"
      ],
      "text/plain": [
       "      Nb de lots\n",
       "Lot1         1.0\n",
       "Lot2         9.0\n",
       "Lot3       121.0"
      ]
     },
     "execution_count": 35,
     "metadata": {},
     "output_type": "execute_result"
    }
   ],
   "source": [
    "affichage.tables_solutions(Test12, primal=True, frac=False)"
   ]
  },
  {
   "cell_type": "code",
   "execution_count": 36,
   "metadata": {},
   "outputs": [
    {
     "data": {
      "text/html": [
       "<div>\n",
       "<style scoped>\n",
       "    .dataframe tbody tr th:only-of-type {\n",
       "        vertical-align: middle;\n",
       "    }\n",
       "\n",
       "    .dataframe tbody tr th {\n",
       "        vertical-align: top;\n",
       "    }\n",
       "\n",
       "    .dataframe thead th {\n",
       "        text-align: right;\n",
       "    }\n",
       "</style>\n",
       "<table border=\"1\" class=\"dataframe\">\n",
       "  <thead>\n",
       "    <tr style=\"text-align: right;\">\n",
       "      <th></th>\n",
       "      <th>Prix unitaire</th>\n",
       "    </tr>\n",
       "  </thead>\n",
       "  <tbody>\n",
       "    <tr>\n",
       "      <th>Fusils</th>\n",
       "      <td>10434.78</td>\n",
       "    </tr>\n",
       "    <tr>\n",
       "      <th>Grenades</th>\n",
       "      <td>4434.78</td>\n",
       "    </tr>\n",
       "    <tr>\n",
       "      <th>Chars</th>\n",
       "      <td>0.00</td>\n",
       "    </tr>\n",
       "    <tr>\n",
       "      <th>Mitrailleuses</th>\n",
       "      <td>0.00</td>\n",
       "    </tr>\n",
       "    <tr>\n",
       "      <th>Bazookas</th>\n",
       "      <td>0.00</td>\n",
       "    </tr>\n",
       "  </tbody>\n",
       "</table>\n",
       "</div>"
      ],
      "text/plain": [
       "               Prix unitaire\n",
       "Fusils              10434.78\n",
       "Grenades             4434.78\n",
       "Chars                   0.00\n",
       "Mitrailleuses           0.00\n",
       "Bazookas                0.00"
      ]
     },
     "execution_count": 36,
     "metadata": {},
     "output_type": "execute_result"
    }
   ],
   "source": [
    "affichage.tables_solutions(Test12, primal=False, frac=True)"
   ]
  },
  {
   "cell_type": "markdown",
   "metadata": {},
   "source": [
    "La fonction `affichage_solution`permet d'afficher un récapitulatif des solutions primal et dual."
   ]
  },
  {
   "cell_type": "code",
   "execution_count": 37,
   "metadata": {},
   "outputs": [
    {
     "name": "stdout",
     "output_type": "stream",
     "text": [
      "Composition de lots optimale pour l'acheteur : \n",
      "        Nb de lots\n",
      "Lot1        0.00\n",
      "Lot2        8.70\n",
      "Lot3      121.74 \n",
      " Prix unitaires optimaux pour l'entrant : \n",
      "                Prix unitaire\n",
      "Fusils              10434.78\n",
      "Grenades             4434.78\n",
      "Chars                   0.00\n",
      "Mitrailleuses           0.00\n",
      "Bazookas                0.00\n"
     ]
    }
   ],
   "source": [
    "affichage.affichage_solutions(Test12, frac=True)"
   ]
  },
  {
   "cell_type": "markdown",
   "metadata": {},
   "source": [
    "La fonction `resume_pulp`permet de synthétiser les données du programme et les solution lorsque l'on considère que les lots sont non fractionnables."
   ]
  },
  {
   "cell_type": "code",
   "execution_count": 38,
   "metadata": {},
   "outputs": [
    {
     "data": {
      "text/plain": [
       "(Prog_dual:\n",
       " MAXIMIZE\n",
       " 400*Bazookas + 100*Chars + 100000*Fusils + 200000*Grenades + 400*Mitrailleuses + 0\n",
       " SUBJECT TO\n",
       " _C1: 80 Bazookas + 10 Chars + 500 Fusils + 1000 Grenades + 100 Mitrailleuses\n",
       "  <= 10000000\n",
       " \n",
       " _C2: 120 Bazookas + 20 Chars + 300 Fusils + 2000 Grenades + 80 Mitrailleuses\n",
       "  <= 12000000\n",
       " \n",
       " _C3: 200 Bazookas + 15 Chars + 800 Fusils + 1500 Grenades + 15 Mitrailleuses\n",
       "  <= 15000000\n",
       " \n",
       " VARIABLES\n",
       " Bazookas Continuous\n",
       " Chars Continuous\n",
       " Fusils Continuous\n",
       " Grenades Continuous\n",
       " Mitrailleuses Continuous,\n",
       " [0.0, 0.0, 10434.783, 4434.7826, 0.0],\n",
       " 1930434820.0)"
      ]
     },
     "execution_count": 38,
     "metadata": {},
     "output_type": "execute_result"
    }
   ],
   "source": [
    "affichage.resume_pulp(Test12, primal = False)"
   ]
  },
  {
   "cell_type": "markdown",
   "metadata": {},
   "source": [
    "# Applications pout l'utilisateur : \n",
    "\n",
    "Deux applications ont été développées. Une application basique où l'on peut rentrer les données du problème soit à partir d'un fichier texte, soit directement dans un terminal. Cette application permet de choisir si les lots sont fractionnables ou non. La seconde application est plus intuitive et permet à l'utilisateur non initié à python et au codage de rentrer et résoudre un problème plus facilement, avec une interface plus attractive. \n",
    "\n",
    "## Application_basique : "
   ]
  },
  {
   "cell_type": "raw",
   "metadata": {},
   "source": [
    "PS C:\\Users\\arkan\\Desktop\\Projet-python-M1S2> python ./app_basique.py \"fch\" \"False\" \"data.txt\"\n",
    "                   Lot1      Lot2      Lot3 demande\n",
    "Fusils              500       300       800  100000\n",
    "Grenades           1000      2000      1500  200000\n",
    "Chars                10        20        15     100\n",
    "Mitrailleuses       100        80        15     400\n",
    "Bazookas             80       120       200     400\n",
    "cout_lot       10000000  12000000  15000000\n",
    "Composition de lots optimale pour l'acheteur :\n",
    "        Nb de lots\n",
    "Lot1         1.0\n",
    "Lot2         9.0\n",
    "Lot3       121.0\n",
    " Prix unitaires optimaux pour l'entrant :\n",
    "                Prix unitaire\n",
    "Bazookas                0.00\n",
    "Chars                   0.00\n",
    "Fusils              10434.78\n",
    "Grenades             4434.78\n",
    "Mitrailleuses           0.00"
   ]
  },
  {
   "cell_type": "markdown",
   "metadata": {},
   "source": [
    "## Application GUI : Interface graphique avec les widgets : "
   ]
  },
  {
   "cell_type": "code",
   "execution_count": 39,
   "metadata": {},
   "outputs": [
    {
     "data": {
      "application/vnd.jupyter.widget-view+json": {
       "model_id": "dc6db5bd9c49484389e18ae439021e2a",
       "version_major": 2,
       "version_minor": 0
      },
      "text/plain": [
       "VBox(children=(Box(children=(Output(),), layout=Layout(justify_content='center')), VBox(children=(Output(), Te…"
      ]
     },
     "metadata": {},
     "output_type": "display_data"
    }
   ],
   "source": [
    "from app_gui import Application\n",
    "mon_application = Application()\n",
    "mon_application.affichage()"
   ]
  },
  {
   "cell_type": "markdown",
   "metadata": {},
   "source": [
    "# Tests :\n",
    "\n",
    "On trouvera un dossier Test regroupant les tests qui vérifient que les fonctions du dossier prog_dual sont correctes et renvoient des résultats correctes (à l'aide du module `pytest`. On trouvera également ci-deesous un rapport du pourcentage de fonctions testées à l'aide du package `coverage`. Nous avons cependant quelques interrogations par rapport à l'utilisation de ce package."
   ]
  },
  {
   "cell_type": "markdown",
   "metadata": {},
   "source": [
    "## Rappel pour les tests : "
   ]
  },
  {
   "cell_type": "raw",
   "metadata": {},
   "source": [
    "\n",
    "PS C:\\Users\\arkan\\Desktop\\Projet-python-M1S2> cd tests\n",
    "PS C:\\Users\\arkan\\Desktop\\Projet-python-M1S2\\tests> py.test test_affichage.py\n",
    "============================= test session starts =============================\n",
    "platform win32 -- Python 3.8.5, pytest-6.2.3, py-1.9.0, pluggy-0.13.1\n",
    "rootdir: C:\\Users\\arkan\\Desktop\\Projet-python-M1S2\\tests\n",
    "plugins: anyio-2.2.0\n",
    "collected 3 items                                                              \n",
    "\n",
    "test_affichage.py ...                                                    [100%]\n",
    "\n",
    "============================== warnings summary ===============================\n",
    "..\\..\\..\\anaconda3\\lib\\site-packages\\pyreadline\\py3k_compat.py:8\n",
    "  c:\\users\\arkan\\anaconda3\\lib\\site-packages\\pyreadline\\py3k_compat.py:8: DeprecationWarning: Using or importing the ABCs from 'collectio\n",
    "ns' instead of from 'collections.abc' is deprecated since Python 3.3, and in 3.9 it will stop working\n",
    "    return isinstance(x, collections.Callable)\n",
    "\n",
    "-- Docs: https://docs.pytest.org/en/stable/warnings.html\n",
    "======================== 3 passed, 1 warning in 2.04s =========================\n",
    "PS C:\\Users\\arkan\\Desktop\\Projet-python-M1S2\\tests> py.test test_probleme.py\n",
    "============================= test session starts =============================\n",
    "platform win32 -- Python 3.8.5, pytest-6.2.3, py-1.9.0, pluggy-0.13.1\n",
    "rootdir: C:\\Users\\arkan\\Desktop\\Projet-python-M1S2\\tests\n",
    "plugins: anyio-2.2.0\n",
    "collected 22 items                                                             \n",
    "\n",
    "test_probleme.py ......................                                  [100%]\n",
    "\n",
    "============================== warnings summary ===============================\n",
    "..\\..\\..\\anaconda3\\lib\\site-packages\\pyreadline\\py3k_compat.py:8\n",
    "  c:\\users\\arkan\\anaconda3\\lib\\site-packages\\pyreadline\\py3k_compat.py:8: DeprecationWarning: Using or importing the ABCs from 'collectio\n",
    "ns' instead of from 'collections.abc' is deprecated since Python 3.3, and in 3.9 it will stop working\n",
    "    return isinstance(x, collections.Callable)\n",
    "\n",
    "-- Docs: https://docs.pytest.org/en/stable/warnings.html\n",
    "======================== 22 passed, 1 warning in 1.54s ========================"
   ]
  },
  {
   "cell_type": "markdown",
   "metadata": {},
   "source": [
    "## package coverage :"
   ]
  },
  {
   "cell_type": "raw",
   "metadata": {},
   "source": [
    "Name                                       Stmts   Miss  Cover\n",
    "------------------------------------------------------------------------------------------------------------------\n",
    "prog_dual\\affichage.py                       85     22    74%\n",
    "prog_dual\\probleme.py                       127     21    83%"
   ]
  }
 ],
 "metadata": {
  "kernelspec": {
   "display_name": "Python 3",
   "language": "python",
   "name": "python3"
  },
  "language_info": {
   "codemirror_mode": {
    "name": "ipython",
    "version": 3
   },
   "file_extension": ".py",
   "mimetype": "text/x-python",
   "name": "python",
   "nbconvert_exporter": "python",
   "pygments_lexer": "ipython3",
   "version": "3.8.5"
  }
 },
 "nbformat": 4,
 "nbformat_minor": 4
}
